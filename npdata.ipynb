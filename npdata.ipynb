{
 "cells": [
  {
   "cell_type": "code",
   "execution_count": 20,
   "metadata": {},
   "outputs": [],
   "source": [
    "import os \n",
    "\n",
    "# import pandas as pd\n",
    "import numpy as np\n",
    "import os, sys\n",
    "import shutil\n",
    "import traceback\n",
    "from datetime import datetime, timedelta\n",
    "\n",
    "\n",
    "\n",
    "def find_files(root_dir:str):\n",
    "    '''\n",
    "        파일을 탐색하여 파일명 리스트 생성\n",
    "        root_dir :: [str] root directory path\n",
    "    '''\n",
    "    filelist = []\n",
    "    file_path_list = []\n",
    "    # print(os.walk(root_dir))\n",
    "    folders =[]\n",
    "    subdirs = []\n",
    "    for folder, subdir, files in os.walk(root_dir):\n",
    "        \n",
    "        if files:\n",
    "            # print(folder,\"@@\",files)\n",
    "            for file in files:\n",
    "                path = folder +'\\\\'+ file\n",
    "                file_path_list.append(path)\n",
    "                # print(path)\n",
    "                filelist.append(file)\n",
    "            # break\n",
    "        folders.append(folder)\n",
    "        # subdirs.append(subdir)\n",
    "    # print(\"file count : \",len(filelist))\n",
    "    return filelist, file_path_list, folders\n",
    "\n",
    "def file_time(filelist):\n",
    "    file_date = []\n",
    "    for filename in filelist : \n",
    "        file_date.append(filename.split('_')[0])\n",
    "        \n",
    "    return file_date"
   ]
  },
  {
   "cell_type": "code",
   "execution_count": 48,
   "metadata": {},
   "outputs": [
    {
     "name": "stdout",
     "output_type": "stream",
     "text": [
      "/home/szw001/development/2022/data_ana/data.rdps/r030_v040_ne36_unis_h000.2022051100.gb2\n",
      "/home/szw001/development/2022/data_ana/data.rdps/r030_v040_ne36_unis_h001.2022051100.gb2\n",
      "/home/szw001/development/2022/data_ana/data.rdps/r030_v040_ne36_unis_h002.2022051100.gb2\n",
      "/home/szw001/development/2022/data_ana/data.rdps/r030_v040_ne36_unis_h003.2022051100.gb2\n",
      "/home/szw001/development/2022/data_ana/data.rdps/r030_v040_ne36_unis_h004.2022051100.gb2\n",
      "/home/szw001/development/2022/data_ana/data.rdps/r030_v040_ne36_unis_h005.2022051100.gb2\n",
      "/home/szw001/development/2022/data_ana/data.rdps/r030_v040_ne36_unis_h006.2022051100.gb2\n",
      "/home/szw001/development/2022/data_ana/data.rdps/r030_v040_ne36_unis_h007.2022051100.gb2\n",
      "/home/szw001/development/2022/data_ana/data.rdps/r030_v040_ne36_unis_h008.2022051100.gb2\n",
      "/home/szw001/development/2022/data_ana/data.rdps/r030_v040_ne36_unis_h009.2022051100.gb2\n"
     ]
    },
    {
     "data": {
      "text/plain": [
       "array([[[29.043, 29.211, 29.345, ..., 29.577, 29.484, 29.378],\n",
       "        [29.023, 29.192, 29.328, ..., 29.554, 29.464, 29.361],\n",
       "        [29.001, 29.123, 29.255, ..., 29.476, 29.395, 29.301],\n",
       "        ...,\n",
       "        [29.958, 29.972, 29.984, ..., 30.006, 30.006, 30.006],\n",
       "        [29.959, 29.972, 29.984, ..., 30.006, 30.006, 30.005],\n",
       "        [29.96 , 29.972, 29.983, ..., 30.006, 30.005, 30.004]],\n",
       "\n",
       "       [[29.028, 29.158, 29.277, ..., 29.489, 29.401, 29.301],\n",
       "        [29.008, 29.124, 29.233, ..., 29.453, 29.379, 29.272],\n",
       "        [28.986, 29.12 , 29.229, ..., 29.444, 29.374, 29.245],\n",
       "        ...,\n",
       "        [29.956, 29.97 , 29.982, ..., 30.004, 30.002, 30.   ],\n",
       "        [29.957, 29.97 , 29.982, ..., 30.003, 30.002, 30.   ],\n",
       "        [29.958, 29.971, 29.982, ..., 30.004, 30.002, 30.   ]],\n",
       "\n",
       "       [[29.014, 29.264, 29.411, ..., 29.64 , 29.532, 29.413],\n",
       "        [28.994, 29.124, 29.238, ..., 29.45 , 29.375, 29.222],\n",
       "        [28.973, 29.102, 29.213, ..., 29.442, 29.363, 29.216],\n",
       "        ...,\n",
       "        [29.953, 29.968, 29.98 , ..., 30.001, 29.998, 29.995],\n",
       "        [29.954, 29.968, 29.98 , ..., 30.001, 29.998, 29.996],\n",
       "        [29.955, 29.969, 29.98 , ..., 30.001, 29.999, 29.996]],\n",
       "\n",
       "       ...,\n",
       "\n",
       "       [[27.395, 27.555, 27.685, ..., 28.074, 28.096, 28.106],\n",
       "        [27.399, 27.582, 27.707, ..., 28.085, 28.101, 28.103],\n",
       "        [27.403, 27.491, 27.603, ..., 27.966, 27.988, 27.995],\n",
       "        ...,\n",
       "        [27.512, 27.498, 27.503, ..., 27.524, 27.526, 27.528],\n",
       "        [27.511, 27.497, 27.502, ..., 27.523, 27.525, 27.526],\n",
       "        [27.51 , 27.494, 27.5  , ..., 27.521, 27.522, 27.524]],\n",
       "\n",
       "       [[27.402, 27.674, 27.828, ..., 28.273, 28.289, 28.293],\n",
       "        [27.406, 27.611, 27.742, ..., 28.136, 28.156, 28.16 ],\n",
       "        [27.41 , 27.527, 27.647, ..., 28.028, 28.047, 28.057],\n",
       "        ...,\n",
       "        [27.512, 27.498, 27.503, ..., 27.524, 27.525, 27.527],\n",
       "        [27.511, 27.496, 27.502, ..., 27.522, 27.524, 27.526],\n",
       "        [27.51 , 27.494, 27.5  , ..., 27.52 , 27.522, 27.523]],\n",
       "\n",
       "       [[27.407, 27.682, 27.834, ..., 28.282, 28.299, 28.307],\n",
       "        [27.411, 27.628, 27.777, ..., 28.208, 28.226, 28.235],\n",
       "        [27.416, 27.532, 27.661, ..., 28.054, 28.08 , 28.098],\n",
       "        ...,\n",
       "        [27.512, 27.498, 27.503, ..., 27.523, 27.525, 27.527],\n",
       "        [27.51 , 27.496, 27.501, ..., 27.521, 27.523, 27.525],\n",
       "        [27.509, 27.494, 27.499, ..., 27.519, 27.52 , 27.522]]])"
      ]
     },
     "execution_count": 48,
     "metadata": {},
     "output_type": "execute_result"
    }
   ],
   "source": [
    "import numpy as np\n",
    "import pygrib\n",
    "import matplotlib.pyplot as plt\n",
    "import cartopy.crs as ccrs\n",
    "import cartopy\n",
    "\n",
    "\n",
    "\n",
    "\n",
    "# path = '/home/szw001/development/2022/data_ana/data.rdps/r030_v040_ne36_unis_h000.2022051100.gb2'\n",
    "path = '/home/szw001/development/2022/data_ana/data.rdps'\n",
    "\n",
    "filelist, file_path_list, folders = find_files(path)\n",
    "\n",
    "# 정렬하지않으면 순서가 뒤죽박죽으로 들어감..\n",
    "file_path_list.sort()\n",
    "\n",
    "for j, file in enumerate(file_path_list):\n",
    "    file = file.replace(\"\\\\\",'/')\n",
    "    print(file)\n",
    "    grbs = pygrib.open(file)\n",
    "    \n",
    "\n",
    "    # features = ['2 metre temperature','2 metre relative humidity','10 metre U wind component','10 metre V wind component','Surface pressure']\n",
    "    features = ['2 metre temperature']\n",
    "\n",
    "    for i, feature_name in enumerate(features):\n",
    "        temp = grbs.select(name=feature_name)[0]\n",
    "        ## 소수점 3자리 까지 저장\n",
    "        if i == 0:\n",
    "            feature = np.round(temp.values/10, 3)\n",
    "        else:\n",
    "            feature = np.round(temp.values, 3)\n",
    "        if j == 0:\n",
    "            total_npy = feature.reshape(839, 1049, 1)\n",
    "        else:\n",
    "            total_npy = np.append(total_npy,feature.reshape(839, 1049, 1),axis=-1)\n",
    "\n",
    "total_npy"
   ]
  },
  {
   "cell_type": "code",
   "execution_count": 49,
   "metadata": {},
   "outputs": [
    {
     "data": {
      "text/plain": [
       "(839, 1049, 10)"
      ]
     },
     "execution_count": 49,
     "metadata": {},
     "output_type": "execute_result"
    }
   ],
   "source": [
    "total_npy.shape"
   ]
  },
  {
   "cell_type": "code",
   "execution_count": 15,
   "metadata": {},
   "outputs": [
    {
     "data": {
      "text/plain": [
       "'00'"
      ]
     },
     "execution_count": 15,
     "metadata": {},
     "output_type": "execute_result"
    }
   ],
   "source": [
    "split_list = path.split('_')\n",
    "hour = split_list[5].split('.')\n",
    "hour[0][-2:]\n"
   ]
  },
  {
   "cell_type": "code",
   "execution_count": 12,
   "metadata": {},
   "outputs": [
    {
     "data": {
      "text/plain": [
       "array([[110.632324  , 110.66095005, 110.68958007, ..., 141.32232452,\n",
       "        141.35095289, 141.37957729],\n",
       "       [110.62675982, 110.65539572, 110.6840356 , ..., 141.32787309,\n",
       "        141.35651131, 141.38514556],\n",
       "       [110.62119166, 110.64983742, 110.67848716, ..., 141.33342563,\n",
       "        141.36207372, 141.39071782],\n",
       "       ...,\n",
       "       [104.0154005 , 104.05530026, 104.09521121, ..., 147.92138477,\n",
       "        147.96129106, 148.00118617],\n",
       "       [104.00415753, 104.0440756 , 104.08400488, ..., 147.93259872,\n",
       "        147.97252334, 148.01243675],\n",
       "       [103.99290333, 104.03283974, 104.07278736, ..., 147.94382387,\n",
       "        147.98376683, 148.02369856]])"
      ]
     },
     "execution_count": 12,
     "metadata": {},
     "output_type": "execute_result"
    }
   ],
   "source": [
    "lon"
   ]
  },
  {
   "cell_type": "code",
   "execution_count": 8,
   "metadata": {},
   "outputs": [
    {
     "data": {
      "text/plain": [
       "(839, 1049)"
      ]
     },
     "execution_count": 8,
     "metadata": {},
     "output_type": "execute_result"
    }
   ],
   "source": [
    "temperature.shape"
   ]
  },
  {
   "cell_type": "code",
   "execution_count": 10,
   "metadata": {},
   "outputs": [
    {
     "data": {
      "text/plain": [
       "(839, 1049)"
      ]
     },
     "execution_count": 10,
     "metadata": {},
     "output_type": "execute_result"
    }
   ],
   "source": [
    "temperature.shape"
   ]
  },
  {
   "cell_type": "code",
   "execution_count": 11,
   "metadata": {},
   "outputs": [
    {
     "ename": "TypeError",
     "evalue": "only integer scalar arrays can be converted to a scalar index",
     "output_type": "error",
     "traceback": [
      "\u001b[0;31m---------------------------------------------------------------------------\u001b[0m",
      "\u001b[0;31mTypeError\u001b[0m                                 Traceback (most recent call last)",
      "\u001b[0;32m<ipython-input-11-71add0e5282e>\u001b[0m in \u001b[0;36m<module>\u001b[0;34m\u001b[0m\n\u001b[0;32m----> 1\u001b[0;31m \u001b[0mnew_npy\u001b[0m \u001b[0;34m=\u001b[0m \u001b[0mnp\u001b[0m\u001b[0;34m.\u001b[0m\u001b[0mconcatenate\u001b[0m\u001b[0;34m(\u001b[0m\u001b[0mlon\u001b[0m\u001b[0;34m,\u001b[0m\u001b[0mlat\u001b[0m\u001b[0;34m,\u001b[0m\u001b[0mtemperature\u001b[0m\u001b[0;34m)\u001b[0m\u001b[0;34m\u001b[0m\u001b[0;34m\u001b[0m\u001b[0m\n\u001b[0m\u001b[1;32m      2\u001b[0m \u001b[0mnew_npy\u001b[0m\u001b[0;34m\u001b[0m\u001b[0;34m\u001b[0m\u001b[0m\n",
      "\u001b[0;32m~/.conda/envs/grib/lib/python3.8/site-packages/numpy/core/overrides.py\u001b[0m in \u001b[0;36mconcatenate\u001b[0;34m(*args, **kwargs)\u001b[0m\n",
      "\u001b[0;31mTypeError\u001b[0m: only integer scalar arrays can be converted to a scalar index"
     ]
    }
   ],
   "source": [
    "new_npy = np.concatenate(temperature)\n",
    "new_npy"
   ]
  },
  {
   "cell_type": "code",
   "execution_count": null,
   "metadata": {},
   "outputs": [],
   "source": [
    "\n",
    "파일명 : temperature_220907_01.npy   (요소_분석시간.npy)\n",
    "[위도.shape, 경도.shape, 시간.shape] -> [(839, 1049),(839, 1049),(839, 1049)] ??\n",
    "[요소 값.shape, 시간.shape] -> [(839, 1049),(839, 1049),(839, 1049)] ??"
   ]
  }
 ],
 "metadata": {
  "kernelspec": {
   "display_name": "Python 3.8.10 ('grib')",
   "language": "python",
   "name": "python3"
  },
  "language_info": {
   "codemirror_mode": {
    "name": "ipython",
    "version": 3
   },
   "file_extension": ".py",
   "mimetype": "text/x-python",
   "name": "python",
   "nbconvert_exporter": "python",
   "pygments_lexer": "ipython3",
   "version": "3.8.10"
  },
  "orig_nbformat": 4,
  "vscode": {
   "interpreter": {
    "hash": "cdfcbf034302e54b0e7edf51be9410d1a5cae142af95e6eb12c81415b7e0b1aa"
   }
  }
 },
 "nbformat": 4,
 "nbformat_minor": 2
}
